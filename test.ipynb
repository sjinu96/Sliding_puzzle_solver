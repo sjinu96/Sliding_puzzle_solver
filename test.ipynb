{
 "cells": [
  {
   "cell_type": "code",
   "execution_count": 494,
   "metadata": {},
   "outputs": [],
   "source": [
    "import numpy as np\n",
    "import pandas as pd\n",
    "from math import factorial as fact\n",
    "\n",
    "def get_inverse(state, size, loc, solvable=False): # 단, Hash 구하는 용도임(solvable xx)\n",
    "    # input \n",
    "    #   state : 퍼즐 (2d array)\n",
    "    #   size : 퍼즐 사이즈 (tuple)\n",
    "    #   loc : inverse 값을 구하려는 타일 좌표 (tuple)(row, col)\n",
    "    # output\n",
    "    #   inverse value : 우하단 방향으로, 해당 좌표의 값보다 작은 타일의 개수.\n",
    "\n",
    "    m, n = size\n",
    "    y, x = loc\n",
    "    anchor_value = state[y, x] # 타일의 값\n",
    "    count = 0\n",
    "    \n",
    "    for i in range(y, m):\n",
    "        if (i==y):# 첫 줄\n",
    "            for j in range(x+1, n):\n",
    "                if(state[i, j] < anchor_value):\n",
    "                    if solvable:\n",
    "                        if state[i,j]!=0: # solvable 구할 때는 blanktile 포함노\n",
    "                            count+=1\n",
    "                    else:\n",
    "                        count +=1\n",
    "\n",
    "        else: # 나머지 줄 \n",
    "            for j in range(0, n):\n",
    "                if(state[i, j] < anchor_value):\n",
    "                    if solvable:\n",
    "                        if state[i,j]!=0:\n",
    "                            count+=1\n",
    "                    else:\n",
    "                        count+=1\n",
    "\n",
    "    return count\n",
    "\n",
    "# 3x2 Sub-puzzle에서, 6!/2 = 360가지의 puzzle -> 360개의 hash \n",
    "def hash(state):\n",
    "\n",
    "    hash_value = 1\n",
    "    i = 0\n",
    "    m, n = np.shape(state)\n",
    "    for row in range(m-1, -1, -1):\n",
    "        for col in range(n-1, -1, -1):\n",
    "            temp_inverse = get_inverse(state, (m, n), (row, col))\n",
    "\n",
    "            hash_value += (temp_inverse * fact(i))\n",
    "            i+=1 # 좌표 \n",
    "    \n",
    "    return hash_value\n",
    "\n",
    "# 대충 만든 swap 함수 (어차피 in-place Algorithm이라 굳이 다른 자료구조 안 써도 괜찮)\n",
    "def move(state, size, blank_loc, direct):\n",
    "    m, n = size\n",
    "    y, x = blank_loc\n",
    "    if direct==\"left\":\n",
    "        if x-1<0:\n",
    "            return\n",
    "        else:\n",
    "            state[y, x], state[y, x-1] = state[y, x-1], state[y, x] # swap \n",
    "            return (y, x-1)\n",
    "    elif direct==\"right\":\n",
    "        if x+1>=n:\n",
    "            return\n",
    "        else:\n",
    "            state[y, x], state[y, x+1] = state[y, x+1], state[y, x] # swap\n",
    "            return (y, x+1)\n",
    "\n",
    "    elif direct==\"up\":\n",
    "        if y-1<0:\n",
    "            return\n",
    "        else:   \n",
    "            state[y, x], state[y-1, x] = state[y-1, x], state[y, x] # swap\n",
    "            return (y-1, x)\n",
    "    elif direct==\"down\":\n",
    "        if y+1>=m:\n",
    "            return\n",
    "        else:\n",
    "            state[y, x], state[y+1, x] = state[y+1, x], state[y, x] # swap\n",
    "            return (y+1, x)\n",
    "\n",
    "    else:\n",
    "        raise NameError(\"제대로 옮기세요\")   \n",
    "\n",
    "\n",
    "# SST table 만들기용 move 함수 (C++에선 Struct)\n",
    "def move_sst(state2, size, blank_loc, direct):\n",
    "    state = state2.copy() # deepcopy\n",
    "\n",
    "    m, n = size\n",
    "    y, x = blank_loc\n",
    "    if direct==\"left\":\n",
    "        if x-1<0:\n",
    "            return\n",
    "        else:\n",
    "            state[y, x], state[y, x-1] = state[y, x-1], state[y, x] # swap \n",
    "            return state, (y, x-1)\n",
    "    elif direct==\"right\":\n",
    "        if x+1>=n:\n",
    "            return\n",
    "        else:\n",
    "            state[y, x], state[y, x+1] = state[y, x+1], state[y, x] # swap\n",
    "            return state, (y, x+1)\n",
    "\n",
    "    elif direct==\"up\":\n",
    "        if y-1<0:\n",
    "            return\n",
    "        else:   \n",
    "            state[y, x], state[y-1, x] = state[y-1, x], state[y, x] # swap\n",
    "            return state, (y-1, x)\n",
    "    elif direct==\"down\":\n",
    "        if y+1>=m:\n",
    "            return\n",
    "        else:\n",
    "            state[y, x], state[y+1, x] = state[y+1, x], state[y, x] # swap\n",
    "            return state, (y+1, x)\n",
    "\n",
    "    else:\n",
    "        raise NameError(\"제대로 옮기세요\") \n",
    "\n",
    "\n",
    "\n"
   ]
  },
  {
   "cell_type": "code",
   "execution_count": 601,
   "metadata": {},
   "outputs": [],
   "source": [
    "# Bidirectional BFS  / State Transition Table을 만드는 용도.\n",
    "def BBFS(target_state, size):\n",
    "    hash_array=np.zeros(1000) # hash_array[hash_value] = state sequence\n",
    "    order = {0: \"up\", 1:\"right\", 2:\"down\", 3:\"left\"}\n",
    "    m,n = size # (3,2) 혹은 (2,3)\n",
    "\n",
    "    hash_value = hash(target_state)\n",
    "  \n",
    "\n",
    "    next_seq=1\n",
    "    prev_seq = -1\n",
    "    reverse_direct = \"out\"\n",
    "    hash_array[hash_value]=next_seq # state 방문 처리\n",
    "    \n",
    "    queue=[]\n",
    "\n",
    "    # 현재 state, blank 위치, sequence,  hash value, previous sequence )\n",
    "    queue.append((target_state, (m-1, n-1), next_seq, hash_value, prev_seq, reverse_direct))\n",
    "    # c에선 구조체로 바꿔주자.\n",
    "\n",
    "\n",
    "    full_seq=[]\n",
    "    full_hash=[]\n",
    "    full_prev_seq=[]\n",
    "    full_reverse_direct=[]\n",
    "    while queue:\n",
    "\n",
    "        # print(\"queue: [\", end=' ')\n",
    "        # for i in queue:\n",
    "        #     print(i[2], end =' ')\n",
    "        # print(\"]\")\n",
    "\n",
    "        current = queue.pop(0)\n",
    "\n",
    "        # print(\"---pop ! --- :\")\n",
    "        # print(\"state: \\n\", current[0], \"sequence : \",  current[2], \" hash value : \", current[3], \" previous sequence : \", current[4], \" previous recverse direct : \", current[5])\n",
    "        # print(\"----------------\")\n",
    "\n",
    "        prev_state = current[0] # 일단 구조체가 아니라 풀어서 씀.\n",
    "        prev_blank = current[1]\n",
    "        prev_seq = current[2]\n",
    "        prev_hash = current[3]  \n",
    "        prev_prev_seq = current[4]\n",
    "        prev_reverse_direc = current[5]\n",
    "\n",
    "        full_seq.append(prev_seq)\n",
    "        full_hash.append(prev_hash)\n",
    "        full_prev_seq.append(prev_prev_seq)\n",
    "        full_reverse_direct.append(prev_reverse_direc)\n",
    "        \n",
    "        \n",
    "        for key, direct in order.items():\n",
    "            reverse_direct = order[(key+2)%4] # 백트래킹용 역방향\n",
    "            next_state_and_loc  = move_sst(prev_state, size, prev_blank, direct)\n",
    "\n",
    "            if next_state_and_loc: # 움직일 수 있으면\n",
    "                next_hash = hash(next_state_and_loc[0]) # hash값 추출\n",
    "                if not hash_array[next_hash]: # 아직 방문되지 않았으면, \n",
    "                    \n",
    "                    next_seq = next_seq + 1\n",
    "                    queue.append((next_state_and_loc[0], next_state_and_loc[1], next_seq, next_hash, prev_seq, reverse_direct)) # 큐에 삽입\n",
    "                    \n",
    "                    \n",
    "\n",
    "                    # print(\"---insert !---\" )\n",
    "\n",
    "                    # print(\"queue: [\", end=' ')\n",
    "                    # for i in queue:\n",
    "                    #     print(i[2], end =' ')\n",
    "                    # print(\"]\")\n",
    "\n",
    "                    \n",
    "                    # print(\"state: \", next_state_and_loc[0], \"sequence : \",  next_seq, \" hash value : \" , next_hash, \" previous sequence : \", prev_seq)\n",
    "                    # print(\"-------------------------------\")\n",
    "                    hash_array[next_hash] = next_seq # 방문처리 \n",
    "                else:\n",
    "                    pass\n",
    "                    # print(\"이미 방문한 해쉬입니다. : \", next_hash)\n",
    "    \n",
    "\n",
    "    STT=pd.DataFrame({\"seq\":full_seq, \"hash\":full_hash, \"prev_seq\":full_prev_seq, \"reverse_direct\": full_reverse_direct})\n",
    "    return STT, hash_array\n",
    "\n",
    "\n",
    "# STT를 이용해 3x2 Sub-puzzle을 최단경로로 풀어주는 함수      \n",
    "def GetShortestPath(STT, hash_array, initial_state):\n",
    "    \n",
    "    hash_value = hash(initial_state)\n",
    "    \n",
    "    \n",
    "    next_seq=int(hash_array[hash_value]) # initial state\n",
    "    prev_seq = STT.iloc[next_seq-1][\"prev_seq\"] # next seq -> prev seq ()\n",
    "\n",
    "    full_direct=[]\n",
    "    while (prev_seq!=-1): # 각 행의 마지막 2개 타일 정렬이 끝날 때까지\n",
    "        next_direct = STT.iloc[next_seq-1][\"reverse_direct\"] # 더 가야 한다.\n",
    "        # print(next_seq, next_direct)\n",
    "        full_direct.append(next_direct) # 방향 저장\n",
    "        \n",
    "        next_seq = prev_seq\n",
    "        prev_seq = STT.iloc[next_seq-1][\"prev_seq\"]\n",
    "\n",
    "\n",
    "    \n",
    "    # 최적화 더 해야함. 굳이 끝까지 맞출 필요 없음.(함수 더 짤 때 ㄱㄱ)\n",
    "        \n",
    " \n",
    "    \n",
    "    return full_direct\n",
    "\n",
    "# 3x2 puzzle을 풀기위해 [1,2,3,4,5,0] 형태로 정규화가 필요함.\n",
    "def MatchToStandard(initial_state, t1, t2, last=False): # last : Last 2x3 Puzzle\n",
    "    # [4, 8, 5, 11, 0, 15] -> [1, *, 2, *, 0, ]  ( ***는 3,4,5 중 하나)\n",
    "    # t1 : 4 / t2 : 5 (in row 1)\n",
    "    # 단, ***를 345로 배열하면 inverse : 1+2+2+2+1 = 짝수. \n",
    "\n",
    "    m, n = np.shape(initial_state)    \n",
    "\n",
    "    standard_initial_state = np.zeros((m, n))\n",
    "\n",
    "    if (m,n)==(3,2):\n",
    "        if initial_state[2, 0]==0: # \n",
    "            others = [5,4,3] # for solvable\n",
    "            \n",
    "        else:\n",
    "            others = [3,4,5] # for solvable\n",
    "        \n",
    "    else: # 아마 2x3 퍼즐만.\n",
    "        if not last:\n",
    "            others = [2,3,5] # Solvable\n",
    "        else: # last\n",
    "            pass\n",
    "\n",
    "        \n",
    "    idx=0        \n",
    "    for i in range(m):\n",
    "        for j in range(n):\n",
    "            if (initial_state[i,j] == t1):\n",
    "                standard_initial_state[i,j] = 1\n",
    "            elif (initial_state[i,j]==t2):\n",
    "                if (m,n)==(3,2):\n",
    "                    standard_initial_state[i,j] = 2\n",
    "                else: \n",
    "                    standard_initial_state[i,j] = 4\n",
    "                    \n",
    "            elif (initial_state[i,j]==0):\n",
    "                standard_initial_state[i,j] = 0\n",
    "            else: # 나머진 대충\n",
    "                if not last:\n",
    "                    standard_initial_state[i,j] = others[idx]\n",
    "                    idx+=1\n",
    "                if last:\n",
    "                    if (initial_state[i,j]==23):\n",
    "                        standard_initial_state[i,j] = 2\n",
    "                    elif (initial_state[i,j]==24):\n",
    "                        standard_initial_state[i,j] = 3\n",
    "                    else: # 29\n",
    "                        standard_initial_state[i,j] = 5\n",
    "\n",
    "    return standard_initial_state\n",
    "    \n",
    "\n",
    "    \n",
    "\n",
    "    "
   ]
  },
  {
   "cell_type": "markdown",
   "metadata": {},
   "source": [
    "# Solving Idea : 한 줄 한 줄씩 맞추기\n",
    "### - Stage 1 : 각 행의 5개 열은 그냥 Shortest path  \n",
    "### - Stage 2 : 각 행의 마지막 2개 타일은 hash + State Transition Table(STT) 활용한 3x2 Sub-puzzle \n",
    "### - Stage 3 : 마지막 2행은 총 4개의 2x3 Sub-puzzle을 풀어야함"
   ]
  },
  {
   "cell_type": "markdown",
   "metadata": {},
   "source": [
    " -------------"
   ]
  },
  {
   "cell_type": "markdown",
   "metadata": {},
   "source": [
    "#### 0. Initialize : Bidirectional Breadth First Search를 통한 hash + STT 생성 (0.1초)"
   ]
  },
  {
   "cell_type": "code",
   "execution_count": 620,
   "metadata": {},
   "outputs": [],
   "source": [
    "target_state = np.array([[1,2], [3,4], [5,0]])\n",
    "target_state2 = np.array([[1,2,3], [4,5,0]])\n",
    "\n",
    "STT,hash_array = BBFS(target_state, size=(3,2))\n",
    "STT2, hash_array2= BBFS(target_state2, size=(2,3))"
   ]
  },
  {
   "cell_type": "markdown",
   "metadata": {},
   "source": [
    "#### 1.1 Row 1 (전방 4개) : 최단경로로 맞출 수 있음 \n",
    "#### 1.2 Row 1 (후방 2개) : STT 활용 최단경로"
   ]
  },
  {
   "cell_type": "code",
   "execution_count": 621,
   "metadata": {},
   "outputs": [
    {
     "name": "stdout",
     "output_type": "stream",
     "text": [
      "['up', 'right', 'up', 'left', 'down', 'down', 'right', 'up', 'left', 'up', 'right', 'down', 'left', 'down', 'right']\n"
     ]
    }
   ],
   "source": [
    "initial_state = np.array([[5, 24], [6, 15], [0, 22]]) # 3x2 sub-puzzle\n",
    "initial_state = MatchToStandard(initial_state, 5, 6) # 정규화\n",
    "# 13 : 5, 9 : 4, 21 : 3\n",
    "# 이거 Target state를 그냥 [[1,2][4,0][3, 5]] 정도로 하면 이득일듯.\n",
    "# 즉, [[t1, *], [t2, *], [0, *]] -> [[1,2], [4,0], [3,5]]\n",
    "# 0이 오른쪽에 있을 때는..? (사실 그럴일이 별로 없긴 함) - 케이스 분석해야\n",
    "print(GetShortestPath(STT, hash_array,initial_state))"
   ]
  },
  {
   "cell_type": "markdown",
   "metadata": {},
   "source": [
    "#### 2.1 Row 2 (전방 4개) : 최단경로로 맞출 수 있음 \n",
    "#### 2.2 Row 2 (후방 2개) : STT 활용 최단경로"
   ]
  },
  {
   "cell_type": "code",
   "execution_count": 622,
   "metadata": {},
   "outputs": [
    {
     "name": "stdout",
     "output_type": "stream",
     "text": [
      "['up', 'right', 'up', 'left', 'down', 'down', 'right', 'up', 'left', 'up', 'right', 'down', 'left', 'down', 'right']\n"
     ]
    }
   ],
   "source": [
    "initial_state = np.array([[11,25], [12, 15], [0, 16]]) # 3x2 sub-puzzle\n",
    "initial_state = MatchToStandard(initial_state, 11, 12) # 정규화a\n",
    "\n",
    "print(GetShortestPath(STT, hash_array,initial_state, target_state))"
   ]
  },
  {
   "cell_type": "markdown",
   "metadata": {},
   "source": [
    "#### 3.1 Row 3(전방 5개) : 최단경로\n",
    "#### 3.2 Row 3(후방 2개) : STT 활용 최단경로"
   ]
  },
  {
   "cell_type": "code",
   "execution_count": 623,
   "metadata": {},
   "outputs": [
    {
     "name": "stdout",
     "output_type": "stream",
     "text": [
      "['up', 'right', 'up', 'left', 'down', 'down', 'right', 'up', 'left', 'up', 'right', 'down', 'left', 'down', 'right']\n"
     ]
    }
   ],
   "source": [
    "initial_state = np.array([[17,29], [18, 25], [0, 24]]) # 3x2 sub-puzzle\n",
    "initial_state = MatchToStandard(initial_state, 17, 18) # 정규화a\n",
    "\n",
    "print(GetShortestPath(STT, hash_array,initial_state, target_state))"
   ]
  },
  {
   "cell_type": "markdown",
   "metadata": {},
   "source": [
    "#### 4.1. 마지막 Row 2개(전방 3개) : 2x3 Sub Puzzle STT 활용 최단 경로"
   ]
  },
  {
   "cell_type": "code",
   "execution_count": 626,
   "metadata": {},
   "outputs": [
    {
     "name": "stdout",
     "output_type": "stream",
     "text": [
      "['left', 'down', 'left', 'up', 'right', 'right', 'down', 'left', 'up', 'left', 'down', 'right', 'right', 'up', 'left', 'down', 'right']\n"
     ]
    }
   ],
   "source": [
    "initial_state2 = np.array([[21, 27, 0], [28, 22, 24]]) # 3x2 sub-puzzle\n",
    "initial_state2 = MatchToStandard(initial_state2, 21, 27) # 정규화\n",
    "\n",
    "print(GetShortestPath(STT2, hash_array2,initial_state2))"
   ]
  },
  {
   "cell_type": "markdown",
   "metadata": {},
   "source": [
    "#### 4.2. 마지막 2x3 Sub Puzzle : STT 활용 최단 경로"
   ]
  },
  {
   "cell_type": "code",
   "execution_count": 627,
   "metadata": {},
   "outputs": [
    {
     "name": "stdout",
     "output_type": "stream",
     "text": [
      "['down', 'right', 'right', 'up', 'left', 'down', 'right']\n"
     ]
    }
   ],
   "source": [
    "initial_state2 = np.array([[0, 24, 29], [22,28, 23]]) # 3x2 sub-puzzle\n",
    "initial_state2 = MatchToStandard(initial_state2, 22, 28,\n",
    "                 last=True) # 정규화\n",
    "\n",
    "print(GetShortestPath(STT2, hash_array2,initial_state2))"
   ]
  },
  {
   "cell_type": "markdown",
   "metadata": {},
   "source": [
    "## 408번(시간은 0.x초 예상)"
   ]
  }
 ],
 "metadata": {
  "interpreter": {
   "hash": "aee8b7b246df8f9039afb4144a1f6fd8d2ca17a180786b69acc140d282b71a49"
  },
  "kernelspec": {
   "display_name": "Python 3.10.1 64-bit",
   "language": "python",
   "name": "python3"
  },
  "language_info": {
   "codemirror_mode": {
    "name": "ipython",
    "version": 3
   },
   "file_extension": ".py",
   "mimetype": "text/x-python",
   "name": "python",
   "nbconvert_exporter": "python",
   "pygments_lexer": "ipython3",
   "version": "3.7.11"
  },
  "orig_nbformat": 4
 },
 "nbformat": 4,
 "nbformat_minor": 2
}
